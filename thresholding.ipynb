{
 "cells": [
  {
   "cell_type": "code",
   "execution_count": 1,
   "metadata": {},
   "outputs": [],
   "source": [
    "%load_ext autoreload\n",
    "%autoreload 2\n",
    "\n",
    "# Imports\n",
    "import matplotlib.pyplot as plt\n",
    "import SimpleITK as sitk\n",
    "import os\n",
    "import numpy as np\n",
    "\n",
    "# Custom imports\n",
    "from src.preprocessing.utils import read_dicom_series, image_to_array, array_to_image\n",
    "from src.preprocessing.preprocessing import downsample_image, reverse_slice_order, cutout_cast_HR_pQCT, cutout_calibration_phantom, outlier_elimination, reorient_PCCT_image, intensity_normalization, threshold_image\n",
    "from src.preprocessing.multi_part_image import split_series, merge_series, merge_sitk_images"
   ]
  },
  {
   "cell_type": "code",
   "execution_count": 9,
   "metadata": {},
   "outputs": [
    {
     "name": "stdout",
     "output_type": "stream",
     "text": [
      "C:\\Users\\Yannick\\Documents\\repos\\deep_femur_segmentation\\data\\PCCT\\9_2209_05992_L\n"
     ]
    }
   ],
   "source": [
    "base_path = r\"C:\\Users\\Yannick\\Documents\\repos\\deep_femur_segmentation\\data\"\n",
    "sample = \"2209_05992_L\"\n",
    "path_to_hr_image = os.path.join(base_path, \"HR-pQCT\", sample, \"downsampled_image_cut_cast.nii.gz\")\n",
    "\n",
    "# Find PCCT sample folder \n",
    "path_to_pcc_image = [folder for folder in os.listdir(os.path.join(base_path, \"PCCT\")) if sample in folder][0]\n",
    "path_to_pcc_image = os.path.join(base_path, \"PCCT\", path_to_pcc_image)\n",
    "# path_to_pcc_image = os.path.join(path_to_pcc_image, [folder for folder in os.listdir(path_to_pcc_image) if \"Ex_vivo_bone\" in folder][0])\n",
    "# path_to_pcc_image = os.path.join(path_to_pcc_image, \"cutout_calibration_phantom.nii.gz\")\n",
    "print(path_to_pcc_image)"
   ]
  },
  {
   "cell_type": "markdown",
   "metadata": {},
   "source": [
    "# Thresholding"
   ]
  },
  {
   "cell_type": "code",
   "execution_count": null,
   "metadata": {},
   "outputs": [],
   "source": [
    "image = sitk.ReadImage(path_to_hr_image)\n",
    "image = threshold_image(image, fraction=0.95)\n",
    "sitk.WriteImage(image, os.path.join(base_path, \"HR-pQCT\", sample, \"downsampled_image_cut_cast_thresholded.nii.gz\"))"
   ]
  },
  {
   "cell_type": "code",
   "execution_count": 8,
   "metadata": {},
   "outputs": [
    {
     "name": "stdout",
     "output_type": "stream",
     "text": [
      "Threshold value: 363\n",
      "Number of voxels above threshold: 57235948\n",
      "Fraction of voxels above threshold: 0.05008465991823477\n"
     ]
    }
   ],
   "source": [
    "# Thresholding\n",
    "\n",
    "image = sitk.ReadImage(os.path.join(path_to_pcc_image, \"cutout_calibration_phantom.nii.gz\"))\n",
    "image = threshold_image(image, fraction=0.95)\n",
    "sitk.WriteImage(image, os.path.join(path_to_pcc_image, \"cutout_calibration_phantom_thresholded.nii.gz\"))\n"
   ]
  }
 ],
 "metadata": {
  "kernelspec": {
   "display_name": "femur",
   "language": "python",
   "name": "python3"
  },
  "language_info": {
   "codemirror_mode": {
    "name": "ipython",
    "version": 3
   },
   "file_extension": ".py",
   "mimetype": "text/x-python",
   "name": "python",
   "nbconvert_exporter": "python",
   "pygments_lexer": "ipython3",
   "version": "3.11.6"
  }
 },
 "nbformat": 4,
 "nbformat_minor": 2
}
